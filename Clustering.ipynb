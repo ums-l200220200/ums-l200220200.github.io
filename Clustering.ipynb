{
 "cells": [
  {
   "cell_type": "code",
   "execution_count": 16,
   "id": "c552fdc9-d5c2-4474-be20-f622e79a4034",
   "metadata": {},
   "outputs": [
    {
     "name": "stdout",
     "output_type": "stream",
     "text": [
      "    Tanggal  Waktu Pengirim  \\\n",
      "0       NaN    NaN      NaN   \n",
      "1       NaN    NaN      NaN   \n",
      "2       NaN    NaN      NaN   \n",
      "3  03/10/24  15.53     Atha   \n",
      "4       NaN    NaN      NaN   \n",
      "\n",
      "                                               Pesan  Is_System_Message  \\\n",
      "0  03/10/24 14.31 - pesan dan panggilan dienkrips...               True   \n",
      "1      03/10/24 14.31 - â€žatha membuat grup \"apsih\"               True   \n",
      "2          03/10/24 14.31 - â€žatha menambahkan anda               True   \n",
      "3                     @6283863404275 intro dulu bang              False   \n",
      "4          03/10/24 15.52 - â€žatha menambahkan bayu               True   \n",
      "\n",
      "   Cluster_3  Cluster_4  Cluster_5  \n",
      "0          1          3          4  \n",
      "1          1          3          3  \n",
      "2          1          3          3  \n",
      "3          1          3          3  \n",
      "4          1          3          3  \n"
     ]
    }
   ],
   "source": [
    "import pandas as pd\n",
    "from sklearn.feature_extraction.text import TfidfVectorizer\n",
    "from sklearn.cluster import KMeans\n",
    "import numpy as np\n",
    "\n",
    "# Load the dataset\n",
    "file_path = 'data_group_cleaned.csv'\n",
    "data = pd.read_csv(file_path)\n",
    "\n",
    "# Step 1: Preprocess the text data (cleaning the \"Pesan\" column)\n",
    "data['Pesan'] = data['Pesan'].fillna(\"\").str.lower()  # Fill NaN and convert to lowercase\n",
    "\n",
    "# Step 2: Convert the \"Pesan\" column into numerical representation using TF-IDF\n",
    "vectorizer = TfidfVectorizer(max_features=1000, stop_words='english')\n",
    "X = vectorizer.fit_transform(data['Pesan'])\n",
    "\n",
    "# Step 3: Perform KMeans clustering with 3, 4, and 5 clusters\n",
    "clusters = {}\n",
    "for n_clusters in [3, 4, 5]:\n",
    "    kmeans = KMeans(n_clusters=n_clusters, random_state=42)\n",
    "    clusters[n_clusters] = kmeans.fit_predict(X)\n",
    "\n",
    "# Add cluster labels to the dataset for each KMeans run\n",
    "for n_clusters, labels in clusters.items():\n",
    "    data[f'Cluster_{n_clusters}'] = labels\n",
    "\n",
    "# Save the updated dataset to a new CSV file\n",
    "data.to_csv('data_group_clustered.csv', index=False)\n",
    "\n",
    "# Show a sample of the updated dataset with cluster labels\n",
    "print(data.head())\n"
   ]
  },
  {
   "cell_type": "code",
   "execution_count": null,
   "id": "83cbc975-779c-49e4-8f35-e0ccd73e8434",
   "metadata": {},
   "outputs": [],
   "source": []
  }
 ],
 "metadata": {
  "kernelspec": {
   "display_name": "Python 3 (ipykernel)",
   "language": "python",
   "name": "python3"
  },
  "language_info": {
   "codemirror_mode": {
    "name": "ipython",
    "version": 3
   },
   "file_extension": ".py",
   "mimetype": "text/x-python",
   "name": "python",
   "nbconvert_exporter": "python",
   "pygments_lexer": "ipython3",
   "version": "3.11.0"
  }
 },
 "nbformat": 4,
 "nbformat_minor": 5
}
