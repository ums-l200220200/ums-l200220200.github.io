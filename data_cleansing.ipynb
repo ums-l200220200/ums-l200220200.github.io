{
 "cells": [
  {
   "cell_type": "code",
   "execution_count": 22,
   "id": "76f36eb2-ea4b-4f9f-ad92-65018c524060",
   "metadata": {},
   "outputs": [
    {
     "name": "stdout",
     "output_type": "stream",
     "text": [
      "Index([0, 1, 2, 3, 4, 5, 6], dtype='int64')\n",
      "Data cleaned and saved to data_group_cleaned.csv\n"
     ]
    }
   ],
   "source": [
    "import pandas as pd\n",
    "import re\n",
    "\n",
    "# Fungsi untuk memproses pesan\n",
    "def parse_message(row):\n",
    "    # Pastikan input berupa string\n",
    "    if not isinstance(row, str):\n",
    "        return None, None, None, row  # Jika bukan string, kembalikan nilai default\n",
    "\n",
    "    # Ekspresi reguler yang lebih fleksibel\n",
    "    pattern = r'^(?P<tanggal>\\d{2}/\\d{2}/\\d{2}) (?P<waktu>\\d{1,2}[:.]\\d{2}) - (?P<pengirim>[^:]+): (?P<pesan>.+)$'\n",
    "    match = re.match(pattern, row)\n",
    "    if match:\n",
    "        return match.group('tanggal'), match.group('waktu'), match.group('pengirim'), match.group('pesan')\n",
    "    return None, None, None, row  # Untuk pesan sistem atau tidak cocok\n",
    "\n",
    "\n",
    "# Terapkan parsing pada kolom pertama\n",
    "data[0] = data[0].astype(str).fillna(\"\")  # Pastikan kolom adalah string # Konversi kolom pertama ke string dan tangani NaN\n",
    "parsed_data = data[0].apply(parse_message)\n",
    "\n",
    "# Fungsi untuk membersihkan teks\n",
    "def clean_text(text):\n",
    "    if isinstance(text, str):\n",
    "        # Hanya mempertahankan angka, huruf, dan tanda baca-tulis umum\n",
    "        return re.sub(r'[^a-zA-Z0-9.,:;!?()\\-\"\\'\"\\\" ]', '', text)\n",
    "    return text\n",
    "\n",
    "# Baca file CSV\n",
    "file_path = 'data_group.csv'\n",
    "data = pd.read_csv(file_path, sep=';', header=None, encoding='utf-8')\n",
    "print(data.columns)\n",
    "\n",
    "# Terapkan parsing pada kolom pertama\n",
    "parsed_data = data[0].apply(parse_message)\n",
    "\n",
    "# Buat DataFrame baru dengan header yang diinginkan\n",
    "df_cleaned = pd.DataFrame(parsed_data.tolist(), columns=['Tanggal', 'Waktu', 'Pengirim', 'Pesan'])\n",
    "\n",
    "# Pisahkan pesan sistem\n",
    "df_cleaned['Is_System_Message'] = df_cleaned['Tanggal'].isna()\n",
    "\n",
    "# Bersihkan DataFrame dengan hanya menyimpan baris valid\n",
    "df_valid = df_cleaned[~df_cleaned['Is_System_Message']].drop(columns=['Is_System_Message'])\n",
    "\n",
    "# Bersihkan setiap elemen dalam DataFrame\n",
    "data_cleaned = data.applymap(clean_text)\n",
    "\n",
    "# Simpan hasil ke file baru\n",
    "output_path = 'data_group_cleaned.csv'  # Simpan di direktori kerja saat ini\n",
    "df_cleaned.to_csv(output_path, index=False)\n",
    "print(f\"Data cleaned and saved to {output_path}\")"
   ]
  },
  {
   "cell_type": "code",
   "execution_count": 5,
   "id": "910c77c4-ac81-4989-87bf-8b73fa882ced",
   "metadata": {},
   "outputs": [
    {
     "name": "stdout",
     "output_type": "stream",
     "text": [
      "0    object\n",
      "1    object\n",
      "2    object\n",
      "3    object\n",
      "4    object\n",
      "5    object\n",
      "6    object\n",
      "dtype: object\n"
     ]
    }
   ],
   "source": [
    "print(data.dtypes)"
   ]
  }
 ],
 "metadata": {
  "kernelspec": {
   "display_name": "Python 3 (ipykernel)",
   "language": "python",
   "name": "python3"
  },
  "language_info": {
   "codemirror_mode": {
    "name": "ipython",
    "version": 3
   },
   "file_extension": ".py",
   "mimetype": "text/x-python",
   "name": "python",
   "nbconvert_exporter": "python",
   "pygments_lexer": "ipython3",
   "version": "3.11.0"
  }
 },
 "nbformat": 4,
 "nbformat_minor": 5
}
